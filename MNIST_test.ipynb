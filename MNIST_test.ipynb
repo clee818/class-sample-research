{
 "cells": [
  {
   "cell_type": "code",
   "execution_count": 2,
   "id": "f76d38d1",
   "metadata": {},
   "outputs": [],
   "source": [
    "import torch\n",
    "import torchvision\n",
    "import matplotlib.pyplot as plt\n",
    "import torch.nn as nn\n",
    "import torch.nn.functional as F\n",
    "import torch.optim as optim\n",
    "import numpy as np\n",
    "from torch.utils.data import Dataset, DataLoader\n",
    "import os \n",
    "from warnings import simplefilter\n",
    "import pandas as pd\n",
    "from imblearn.over_sampling import SMOTE  \n"
   ]
  },
  {
   "cell_type": "code",
   "execution_count": 3,
   "id": "6102053d",
   "metadata": {},
   "outputs": [],
   "source": [
    "import models\n",
    "import class_sampling\n",
    "import train\n",
    "import metric_utils\n",
    "import inference\n",
    "import loss_fns\n",
    "import torchvision.ops "
   ]
  },
  {
   "cell_type": "code",
   "execution_count": 4,
   "id": "d5a5b330",
   "metadata": {},
   "outputs": [],
   "source": [
    "NUM_CLASSES = 10\n",
    "n_epochs = 50\n",
    "batch_size_train = 64\n",
    "batch_size_test = 1000\n",
    "momentum = 0\n",
    "\n",
    "random_seed = 1\n",
    "torch.backends.cudnn.enabled = False\n",
    "torch.manual_seed(random_seed)\n",
    "\n",
    "NUM_CLASSES_REDUCED = 2\n",
    "nums = (6, 8)\n",
    "ratio = (10, 1)\n",
    "\n",
    "\n",
    "simplefilter(action='ignore', category=FutureWarning)\n",
    "simplefilter(action='ignore', category=UserWarning)\n",
    "simplefilter(action='ignore', category=DeprecationWarning)"
   ]
  },
  {
   "cell_type": "code",
   "execution_count": 9,
   "id": "a120ab03",
   "metadata": {},
   "outputs": [
    {
     "ename": "SyntaxError",
     "evalue": "invalid syntax (3098868409.py, line 8)",
     "output_type": "error",
     "traceback": [
      "\u001b[0;36m  Input \u001b[0;32mIn [9]\u001b[0;36m\u001b[0m\n\u001b[0;31m    train_MNIST = torchvision.datasets.MNIST('mnist', train=False, download=True,\u001b[0m\n\u001b[0m    ^\u001b[0m\n\u001b[0;31mSyntaxError\u001b[0m\u001b[0;31m:\u001b[0m invalid syntax\n"
     ]
    }
   ],
   "source": [
    "train_MNIST = torchvision.datasets.MNIST('mnist', train=True, download=True,\n",
    "                             transform=torchvision.transforms.Compose(\n",
    "                               torchvision.transforms.Normalize(([\n",
    "                                 ((0.1307,), (0.3081,))\n",
    "                             ]))\n",
    "\n",
    "\n",
    "train_MNIST = torchvision.datasets.MNIST('mnist', train=False, download=True,\n",
    "                             transform=torchvision.transforms.Compose(([\n",
    "                               torchvision.transforms.Normalize(\n",
    "                                 (0.1307,), (0.3081,))]))\n",
    "\n",
    "\n",
    "    \n",
    "reduced_train_MNIST = class_sampling.Reduce(train_MNIST, NUM_CLASSES_REDUCED, nums=nums, CIFAR=True)\n",
    "reduced_test_MNIST = class_sampling.Reduce(test_MNIST, NUM_CLASSES_REDUCED, nums=nums, CIFAR=True)\n",
    "\n",
    "ratio_train_MNIST = class_sampling.Ratio(train_MNIST, NUM_CLASSES_REDUCED, ratio, nums=nums)\n",
    "\n",
    "smote_train_MNIST = class_sampling.Smote(ratio_train_MNIST)"
   ]
  },
  {
   "cell_type": "code",
   "execution_count": null,
   "id": "fac155df",
   "metadata": {},
   "outputs": [],
   "source": []
  }
 ],
 "metadata": {
  "kernelspec": {
   "display_name": "Python 3 (ipykernel)",
   "language": "python",
   "name": "python3"
  },
  "language_info": {
   "codemirror_mode": {
    "name": "ipython",
    "version": 3
   },
   "file_extension": ".py",
   "mimetype": "text/x-python",
   "name": "python",
   "nbconvert_exporter": "python",
   "pygments_lexer": "ipython3",
   "version": "3.9.12"
  }
 },
 "nbformat": 4,
 "nbformat_minor": 5
}
